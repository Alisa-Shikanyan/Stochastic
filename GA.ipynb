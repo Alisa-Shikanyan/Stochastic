{
 "cells": [
  {
   "cell_type": "code",
   "execution_count": 538,
   "metadata": {},
   "outputs": [],
   "source": [
    "import numpy as np\n",
    "import matplotlib.pyplot as plt\n",
    "import random\n",
    "from tqdm import tqdm"
   ]
  },
  {
   "cell_type": "code",
   "execution_count": 539,
   "metadata": {},
   "outputs": [],
   "source": [
    "def move(n, i_d, j_d, cans_d):\n",
    "    fit = 0\n",
    "    if n == 6: #MoveRandom\n",
    "        r = np.random.rand()\n",
    "        if r <= 0.25:\n",
    "            n = 0\n",
    "        elif r<= 0.5:\n",
    "            n = 1\n",
    "        elif r <=0.75:\n",
    "            n = 2\n",
    "        else:\n",
    "            n = 3\n",
    "    if n == 0: #MoveNorth\n",
    "        i_d = i_d-1\n",
    "        if i_d<0:\n",
    "            fit = -5\n",
    "            i_d = i_d+1\n",
    "    elif n == 1: #MoveSouth\n",
    "        i_d = i_d+1\n",
    "        if i_d>9:\n",
    "            fit = -5\n",
    "            i_d = i_d-1\n",
    "    elif n == 2: #MoveWest\n",
    "        j_d = j_d-1\n",
    "        if j_d<0:\n",
    "            fit = -5\n",
    "            j_d = j_d+1\n",
    "    elif n == 3: #MoveEast\n",
    "        j_d = j_d+1\n",
    "        if j_d>9:\n",
    "            fit = -5\n",
    "            j_d = j_d-1\n",
    "    elif n == 4: #StayPut\n",
    "        pass\n",
    "    elif n == 5: #PickUp\n",
    "        if cans_d[i,j] == 1:\n",
    "            fit = 10\n",
    "            cans_d[i,j] = 0\n",
    "        else:\n",
    "            fit = -1\n",
    "    return i_d, j_d, fit, cans_d[i,j]\n"
   ]
  },
  {
   "cell_type": "code",
   "execution_count": 540,
   "metadata": {},
   "outputs": [],
   "source": [
    "def choose_gen(i, j, cans):\n",
    "    gidx = 0 #index of gene\n",
    "    # up * 3^4 + down * 3^3 + left * 3^2 + right * 3^1 + cur * 3^0 = index of gene\n",
    "    # empty = 0, can = 1, wall = 2\n",
    "    if i - 1 < 0:\n",
    "        gidx += 2 * 3**4\n",
    "    elif cans[i-1,j] == 1:\n",
    "        gidx += 1 * 3**4\n",
    "    if i + 1 > 9:\n",
    "        gidx += 2 * 3**3\n",
    "    elif cans[i+1,j] == 1:\n",
    "        gidx += 1 * 3**3\n",
    "    if j - 1 < 0:\n",
    "        gidx += 2 * 3**2\n",
    "    elif cans[i,j-1] == 1:\n",
    "        gidx += 1 * 3**2\n",
    "    if j + 1 > 9:\n",
    "        gidx += 2 * 3**1\n",
    "    elif cans[i,j+1] == 1:\n",
    "        gidx += 1 * 3**1\n",
    "    if cans[i,j] == 1:\n",
    "        gidx += 1 * 3**0\n",
    "    return gidx\n",
    "        "
   ]
  },
  {
   "cell_type": "code",
   "execution_count": 541,
   "metadata": {},
   "outputs": [],
   "source": [
    "def init_cans():\n",
    "    cans_d = -np.ones((10,10))\n",
    "    for ii in range(10):\n",
    "        for jj in range(10):\n",
    "            random = np.random.rand()\n",
    "            if random <=0.5:          \n",
    "                cans_d[ii,jj] = 0\n",
    "            else:\n",
    "                cans_d[ii,jj] = 1\n",
    "    return cans_d"
   ]
  },
  {
   "cell_type": "code",
   "execution_count": 542,
   "metadata": {},
   "outputs": [],
   "source": [
    "def init_individual():\n",
    "    individual_d = -np.ones(243)\n",
    "    for iii in range(243):\n",
    "        individual_d[iii] = random.randint(0,6)\n",
    "    return individual_d"
   ]
  },
  {
   "cell_type": "code",
   "execution_count": 543,
   "metadata": {},
   "outputs": [],
   "source": [
    "def mutations(ind, small_prob):\n",
    "    randnumber = random.randint(0,242)\n",
    "    #\"with a small probability\"\n",
    "    for q in range(randnumber):\n",
    "        r = np.random.rand()\n",
    "        if r<=small_prob:\n",
    "            s = random.randint(0,242)\n",
    "            #print(s, \"mut\")\n",
    "            #print(ind[s], \"before\")\n",
    "            ind[s] = random.randint(0,6)\n",
    "            #print(ind[s], \"after\")\n",
    "    return ind"
   ]
  },
  {
   "cell_type": "code",
   "execution_count": 544,
   "metadata": {},
   "outputs": [],
   "source": [
    "def parents_choice(inds_d, w):\n",
    "    \"\"\"\n",
    "    idxes = np.arange(inds_d.shape[0])\n",
    "    idx_1 = random.choices(idxes, weights = w, k = 1)\n",
    "    idx_2 = random.choices(idxes, weights = w, k = 1)\n",
    "    while idx_1 == idx_2:\n",
    "        idx_2 = random.choices(idxes, weights = w, k = 1)\n",
    "    return inds_d[idx_1], inds_d[idx_2], w[idx_1], w[idx_2]\n",
    "    \"\"\"\n",
    "    \"\"\"\n",
    "    maximum = np.amax(w)\n",
    "    probs = scipy.stats.norm(maximum, 1).pdf([w])\n",
    "    idxes = np.arange(inds.shape[0])\n",
    "    idx1, idx2 = np.random.choice(idxes, size = 2, replace = False, p = np.array(probs)[0])\n",
    "    return inds[idx1], inds[idx2]\n",
    "    \"\"\"\n",
    "    \"\"\"\n",
    "    for i in range(len(w)):\n",
    "        if w[i]<0:           \n",
    "            w[i] = np.abs(1/w[i])\n",
    "    \"\"\"\n",
    "    idxes = np.arange(inds_d.shape[0])\n",
    "    mean = np.median(w)\n",
    "    for i in range(len(w)):\n",
    "        if w[i] < mean:\n",
    "            w[i] = 0\n",
    "    norm_fitn = np.sum(w)\n",
    "    w = w/norm_fitn\n",
    "    idx_1 = random.choices(idxes, weights = w, k = 1)\n",
    "    idx_2 = random.choices(idxes, weights = w, k = 1)\n",
    "    while idx_1 == idx_2:\n",
    "        idx_2 = random.choices(idxes, weights = w, k = 1)\n",
    "    return inds_d[idx_1], inds_d[idx_2]\n",
    "    \n",
    "    "
   ]
  },
  {
   "cell_type": "code",
   "execution_count": 545,
   "metadata": {},
   "outputs": [],
   "source": [
    "individual = init_individual()"
   ]
  },
  {
   "cell_type": "code",
   "execution_count": 546,
   "metadata": {},
   "outputs": [
    {
     "data": {
      "text/plain": [
       "array([5., 2., 6., 5., 0., 2., 6., 4., 4., 1., 2., 2., 6., 4., 2., 2., 1.,\n",
       "       1., 3., 1., 4., 5., 2., 3., 2., 5., 2., 4., 1., 6., 1., 2., 5., 1.,\n",
       "       0., 1., 3., 5., 2., 0., 6., 0., 3., 4., 1., 3., 3., 6., 1., 2., 6.,\n",
       "       0., 2., 4., 6., 2., 1., 1., 3., 3., 1., 2., 4., 4., 5., 5., 2., 2.,\n",
       "       6., 0., 6., 3., 6., 6., 2., 3., 2., 2., 1., 6., 5., 6., 2., 5., 5.,\n",
       "       2., 2., 4., 3., 2., 4., 2., 2., 5., 0., 5., 0., 3., 3., 6., 3., 1.,\n",
       "       3., 5., 5., 0., 2., 4., 6., 0., 3., 5., 6., 3., 6., 2., 1., 3., 4.,\n",
       "       1., 0., 1., 3., 1., 6., 5., 2., 1., 2., 4., 4., 4., 1., 6., 5., 4.,\n",
       "       1., 5., 3., 4., 6., 2., 5., 1., 3., 6., 4., 1., 6., 0., 0., 1., 0.,\n",
       "       6., 0., 0., 0., 0., 6., 2., 2., 1., 0., 1., 2., 4., 0., 2., 1., 2.,\n",
       "       5., 4., 5., 0., 0., 2., 0., 1., 5., 6., 2., 2., 0., 4., 2., 2., 1.,\n",
       "       1., 6., 1., 2., 3., 5., 5., 5., 2., 5., 2., 0., 6., 1., 1., 6., 6.,\n",
       "       0., 5., 3., 6., 3., 0., 0., 1., 2., 5., 0., 4., 6., 1., 2., 5., 5.,\n",
       "       4., 0., 2., 1., 1., 6., 0., 2., 2., 3., 3., 6., 4., 3., 3., 3., 3.,\n",
       "       0., 3., 4., 5., 3.])"
      ]
     },
     "execution_count": 546,
     "metadata": {},
     "output_type": "execute_result"
    }
   ],
   "source": [
    "individual"
   ]
  },
  {
   "cell_type": "code",
   "execution_count": 547,
   "metadata": {},
   "outputs": [],
   "source": [
    "cans = init_cans()"
   ]
  },
  {
   "cell_type": "code",
   "execution_count": 548,
   "metadata": {},
   "outputs": [
    {
     "data": {
      "text/plain": [
       "array([[1., 0., 0., 0., 1., 1., 0., 0., 0., 0.],\n",
       "       [1., 0., 0., 0., 0., 1., 1., 1., 1., 0.],\n",
       "       [1., 0., 1., 1., 0., 1., 1., 1., 0., 1.],\n",
       "       [1., 0., 1., 1., 0., 1., 0., 0., 0., 0.],\n",
       "       [1., 1., 1., 0., 0., 1., 0., 1., 1., 1.],\n",
       "       [1., 0., 0., 0., 0., 1., 1., 0., 1., 1.],\n",
       "       [1., 1., 0., 1., 0., 0., 0., 1., 1., 1.],\n",
       "       [1., 0., 1., 0., 1., 1., 0., 0., 0., 0.],\n",
       "       [0., 1., 0., 1., 1., 0., 1., 0., 1., 1.],\n",
       "       [1., 0., 0., 1., 0., 1., 1., 0., 0., 1.]])"
      ]
     },
     "execution_count": 548,
     "metadata": {},
     "output_type": "execute_result"
    }
   ],
   "source": [
    "cans"
   ]
  },
  {
   "cell_type": "code",
   "execution_count": 549,
   "metadata": {},
   "outputs": [],
   "source": [
    "generations = 1000\n",
    "mutation_param = 0.03"
   ]
  },
  {
   "cell_type": "code",
   "execution_count": 550,
   "metadata": {},
   "outputs": [],
   "source": [
    "best_g_fitness = -np.ones(generations)\n",
    "fitnesses = -np.ones(200)\n",
    "inds = np.zeros((200,243))\n",
    "for m in range(200): #200 individuals in one generation\n",
    "    individual = init_individual()\n",
    "    inds[m] = individual\n",
    "    fitness_sum = np.zeros(100)\n",
    "    for c in range(100): #100 cleaning sessions\n",
    "        cans = init_cans()\n",
    "        i = 0 #initial (i - строка)\n",
    "        j = 0 #initial (j - столбец)\n",
    "        fitness = np.zeros(200)\n",
    "        for k in range(200): #200 actions in one cleaning\n",
    "            idx = choose_gen(i,j,cans)\n",
    "            #print(idx)\n",
    "            #print (\"шаг\", k, \"координаты\", i, j, \"заполнение\", cans[i,j])\n",
    "            i_new, j_new, fitness[k], cans[i,j] = move(individual[idx], i, j, cans)\n",
    "            i = i_new\n",
    "            j = j_new\n",
    "            #print (\"индекс\", idx, \"ход\", individual[idx])\n",
    "            #print(\"шаг\", k, \"координаты\", i, j, \"заполнение\", cans[i,j], \"fitness\", fitness[k])\n",
    "        fitness_sum[c] = np.sum(fitness)\n",
    "    fitnesses[m] = np.mean(fitness_sum)\n",
    "best_g_fitness[0] = np.amax(fitnesses)"
   ]
  },
  {
   "cell_type": "code",
   "execution_count": 551,
   "metadata": {
    "scrolled": false
   },
   "outputs": [
    {
     "data": {
      "text/plain": [
       "array([-675.1 , -753.35, -549.85, -657.1 , -630.59, -412.  , -423.8 ,\n",
       "       -606.07, -389.26, -366.47, -252.95, -605.22, -224.78, -519.64,\n",
       "       -407.13, -580.58, -258.28, -424.77, -436.77, -398.  , -451.3 ,\n",
       "       -712.03, -263.72, -445.72, -573.18, -351.3 , -596.81, -260.71,\n",
       "       -364.87, -256.88, -499.33, -440.08, -404.44, -292.91, -649.11,\n",
       "       -211.64, -177.27, -439.31, -404.06, -290.45, -239.64, -624.3 ,\n",
       "       -282.3 , -413.02, -710.65, -221.15, -317.87, -315.09, -498.59,\n",
       "       -296.  , -415.43, -486.97, -330.63, -181.15, -348.71, -452.42,\n",
       "       -317.7 , -266.47, -267.07, -373.58, -579.42, -718.46, -644.39,\n",
       "       -528.23, -635.17, -337.84, -583.32, -510.79, -270.53, -579.46,\n",
       "       -378.53, -422.53, -312.89, -406.75, -553.34, -571.37, -132.32,\n",
       "       -475.04, -488.95, -511.57, -513.6 , -439.68, -794.83, -614.25,\n",
       "       -368.91, -299.8 , -136.86, -623.77, -532.57, -771.89, -447.11,\n",
       "       -615.93, -493.18, -499.06, -405.16, -567.95, -237.17, -559.4 ,\n",
       "       -549.81, -330.54, -388.18, -290.41, -783.86, -400.84, -211.78,\n",
       "       -360.2 , -716.35, -655.75, -333.49, -410.81, -485.65, -134.15,\n",
       "       -619.42, -342.38, -193.86, -433.86, -492.92, -281.94, -398.11,\n",
       "       -385.53, -226.97, -524.03, -767.52, -454.91, -398.27, -705.15,\n",
       "       -256.82, -658.53, -439.54, -503.02, -512.07,  -83.17, -626.81,\n",
       "       -492.3 , -717.71, -677.43, -469.92, -706.61, -618.6 , -217.24,\n",
       "       -579.16, -531.7 , -412.63, -331.5 , -470.3 , -527.4 , -413.21,\n",
       "       -522.78, -321.81, -539.08, -418.93, -600.73, -509.27, -575.65,\n",
       "       -212.79, -392.37, -467.86, -268.8 , -632.08, -539.48, -488.93,\n",
       "       -268.65, -338.48, -335.38, -468.9 , -336.86, -182.77, -532.17,\n",
       "       -366.11, -482.1 , -300.12, -179.95, -220.66, -519.39, -543.93,\n",
       "       -207.51, -663.29, -618.8 , -459.31, -443.38, -451.75, -361.57,\n",
       "       -486.56, -295.16, -376.9 , -506.44, -116.4 , -685.87, -274.49,\n",
       "       -447.36, -555.  , -178.36, -854.13, -470.03, -611.85, -728.9 ,\n",
       "       -248.16, -522.27, -408.62, -442.77])"
      ]
     },
     "execution_count": 551,
     "metadata": {},
     "output_type": "execute_result"
    }
   ],
   "source": [
    "fitnesses"
   ]
  },
  {
   "cell_type": "code",
   "execution_count": 552,
   "metadata": {},
   "outputs": [
    {
     "data": {
      "text/plain": [
       "array([[1., 3., 5., ..., 6., 3., 0.],\n",
       "       [0., 3., 6., ..., 0., 5., 5.],\n",
       "       [5., 4., 2., ..., 6., 4., 4.],\n",
       "       ...,\n",
       "       [0., 6., 2., ..., 1., 1., 1.],\n",
       "       [6., 1., 1., ..., 2., 0., 0.],\n",
       "       [5., 0., 2., ..., 0., 1., 3.]])"
      ]
     },
     "execution_count": 552,
     "metadata": {},
     "output_type": "execute_result"
    }
   ],
   "source": [
    "inds"
   ]
  },
  {
   "cell_type": "code",
   "execution_count": 553,
   "metadata": {},
   "outputs": [],
   "source": [
    "inds_new = -np.ones((200,243))\n",
    "\n",
    "fitn_min = np.median(fitnesses)\n",
    "if fitn_min <=0: #это такие же веса???\n",
    "    fitnesses = fitnesses + np.abs(fitn_min) + 1\n",
    "\"\"\"\n",
    "norm_fitn = np.sum(fitnesses)\n",
    "fitnesses = fitnesses/norm_fitn\n",
    "\"\"\"\n",
    "\n",
    "#print(fitnesses)\n",
    "for t in range (0,199,2): #надо 200 детей\n",
    "    a, b = parents_choice(inds, fitnesses) #choosing parents\n",
    "    #inds_new[t] = -np.ones(243)\n",
    "    #print(f_a,f_b)\n",
    "    split_point = random.randint(0,242)\n",
    "    inds_new[t] = np.concatenate([a[0:split_point],b[split_point:243]])\n",
    "    inds_new[t] = mutations(inds_new[t], mutation_param)\n",
    "    inds_new[t+1] = np.concatenate([b[0:split_point],a[split_point:243]])\n",
    "    inds_new[t+1] = mutations(inds_new[t+1], mutation_param)\n",
    "    #print(\"parents\",a,b)\n",
    "    #print(\"kids\",inds_new[t],inds_new[t+1])"
   ]
  },
  {
   "cell_type": "code",
   "execution_count": 554,
   "metadata": {},
   "outputs": [
    {
     "data": {
      "text/plain": [
       "array([1., 6., 3., 1., 2., 3., 1., 6., 5., 6., 1., 5., 2., 3., 6., 6., 6.,\n",
       "       4., 1., 3., 4., 1., 1., 4., 3., 6., 3., 5., 3., 6., 5., 4., 3., 4.,\n",
       "       6., 0., 0., 2., 2., 0., 3., 3., 0., 0., 3., 0., 0., 3., 1., 2., 0.,\n",
       "       4., 1., 1., 1., 5., 5., 2., 2., 5., 6., 0., 4., 5., 0., 6., 3., 3.,\n",
       "       5., 1., 5., 4., 2., 4., 3., 3., 6., 4., 4., 1., 3., 2., 0., 1., 0.,\n",
       "       3., 2., 0., 0., 0., 3., 5., 0., 2., 4., 4., 6., 1., 0., 6., 5., 2.,\n",
       "       2., 5., 6., 4., 0., 6., 6., 4., 5., 3., 3., 0., 4., 5., 4., 5., 2.,\n",
       "       4., 2., 0., 6., 1., 4., 4., 5., 2., 3., 3., 2., 6., 4., 2., 2., 2.,\n",
       "       0., 3., 1., 2., 2., 2., 4., 3., 2., 5., 4., 3., 2., 3., 4., 5., 5.,\n",
       "       6., 2., 6., 0., 4., 5., 0., 3., 2., 2., 3., 4., 3., 2., 6., 1., 2.,\n",
       "       1., 0., 2., 1., 4., 0., 2., 4., 1., 5., 4., 5., 1., 4., 6., 4., 5.,\n",
       "       2., 3., 0., 3., 2., 4., 0., 5., 6., 4., 4., 3., 5., 0., 0., 6., 5.,\n",
       "       6., 5., 4., 6., 5., 0., 5., 3., 6., 3., 0., 5., 5., 5., 0., 1., 1.,\n",
       "       6., 0., 5., 4., 3., 4., 4., 2., 1., 6., 5., 5., 0., 2., 4., 3., 4.,\n",
       "       0., 1., 6., 0., 2.])"
      ]
     },
     "execution_count": 554,
     "metadata": {},
     "output_type": "execute_result"
    }
   ],
   "source": [
    "inds_new[0]"
   ]
  },
  {
   "cell_type": "code",
   "execution_count": 555,
   "metadata": {},
   "outputs": [
    {
     "name": "stderr",
     "output_type": "stream",
     "text": [
      "100%|██████████████████████████████████████████████████████████████████████████████| 999/999 [4:55:17<00:00, 17.74s/it]\n"
     ]
    }
   ],
   "source": [
    "for g in tqdm(range(generations-1)): #1000 generations, but one was before\n",
    "    fitnesses = -np.ones(200)\n",
    "    inds = np.zeros((200,243))\n",
    "    for m in range(200): #200 individuals in one generation\n",
    "#        for i in range(243):\n",
    "#            individual[i] = individual\n",
    "        inds[m] = inds_new[m]\n",
    "        #print(inds)\n",
    "        individual = inds[m]\n",
    "        fitness_sum = np.zeros(100)\n",
    "        for c in range(100): #100 cleaning sessions\n",
    "            cans = init_cans()\n",
    "            #print(cans)\n",
    "            #print(\"cans\", cans)\n",
    "            i = 0 #initial (i - строка)\n",
    "            j = 0 #initial (j - столбец)\n",
    "            fitness = np.zeros(200)\n",
    "            for k in range(200): #200 actions in one cleaning\n",
    "                idx = choose_gen(i,j,cans)\n",
    "                \"\"\"\n",
    "                if g > 10:\n",
    "                    print(cans)\n",
    "                    print (\"шаг\", k, \"координаты\", i, j, \"заполнение\", cans[i,j])\n",
    "                \"\"\"\n",
    "                i_new, j_new, fitness[k], cans[i,j] = move(individual[idx], i, j, cans)\n",
    "                \"\"\"\n",
    "                if g > 10:\n",
    "                    print (\"индекс\", idx, \"ход\", individual[idx])\n",
    "                    print(\"шаг\", k, \"координаты\", i_new, j_new, \"заполнение\", cans[i_new,j_new], \"fitness\", fitness[k])\n",
    "                \"\"\"\n",
    "                i = i_new\n",
    "                j = j_new\n",
    "                #print(\"individual\",individual[k])\n",
    "                #print(i,j,fitness[k],cans[i,j])\n",
    "            fitness_sum[c] = np.sum(fitness)\n",
    "            #print(cans)\n",
    "            #print(\"fitness_sum\", fitness_sum)\n",
    "        fitnesses[m] = np.mean(fitness_sum)\n",
    "    #print(fitnesses)\n",
    "    best_g_fitness[g+1] = np.amax(fitnesses)\n",
    "    \n",
    "    fitn_min = np.median(fitnesses)\n",
    "    if fitn_min <=0:\n",
    "        fitnesses = fitnesses + np.abs(fitn_min) + 1\n",
    "    \"\"\"\n",
    "    norm_fitn = np.sum(fitnesses)\n",
    "    fitnesses = fitnesses/norm_fitn\n",
    "    \"\"\"\n",
    "        \n",
    "    \n",
    "    #print(fitnesses)\n",
    "    for t in range (0,199,2): #надо 200 детей\n",
    "        a, b = parents_choice(inds, fitnesses) #choosing parents\n",
    "        #inds_new[t] = -np.ones(243)\n",
    "        split_point = random.randint(0,242)\n",
    "        inds_new[t] = np.concatenate([a[0:split_point],b[split_point:243]])\n",
    "        inds_new[t] = mutations(inds_new[t], mutation_param)\n",
    "        inds_new[t+1] = np.concatenate([b[0:split_point],a[split_point:243]])\n",
    "        inds_new[t+1] = mutations(inds_new[t+1], mutation_param)\n"
   ]
  },
  {
   "cell_type": "code",
   "execution_count": 556,
   "metadata": {},
   "outputs": [
    {
     "data": {
      "text/plain": [
       "array([-83.17, -57.81, -37.02, -25.5 , -18.1 , -11.  ,  -0.81,  -2.53,\n",
       "        -2.07,   2.15,   1.4 ,   1.75,   3.8 ,   2.35,   3.15,   3.3 ,\n",
       "         3.7 ,   4.2 ,   5.  ,   4.3 ,   5.85,   5.75,   6.6 ,   8.4 ,\n",
       "         7.7 ,   8.4 ,   7.8 ,   8.15,   8.25,   8.35,   9.9 ,   8.75,\n",
       "         9.45,   8.75,   9.  ,   9.25,  10.45,  10.15,  11.  ,  10.95,\n",
       "         9.85,  11.9 ,  10.45,  11.15,  11.35,  13.2 ,  13.  ,  11.8 ,\n",
       "        12.5 ,  13.2 ,  12.2 ,  13.3 ,  13.05,  13.  ,  14.4 ,  15.1 ,\n",
       "        16.05,  13.8 ,  13.7 ,  14.95,  15.1 ,  15.15,  16.35,  15.75,\n",
       "        16.7 ,  15.4 ,  15.15,  16.6 ,  16.75,  15.85,  18.4 ,  18.25,\n",
       "        17.1 ,  19.9 ,  18.  ,  17.2 ,  17.8 ,  17.6 ,  18.15,  18.65,\n",
       "        19.85,  18.45,  19.75,  23.  ,  19.8 ,  20.1 ,  20.2 ,  23.55,\n",
       "        24.65,  21.15,  23.8 ,  22.05,  24.2 ,  22.6 ,  23.95,  26.75,\n",
       "        31.15,  23.05,  31.31,  27.19,  29.  ,  30.  ,  33.3 ,  31.35,\n",
       "        46.45,  32.4 ,  40.12,  42.55,  38.  ,  42.26,  49.87,  47.1 ,\n",
       "        45.8 ,  61.45,  55.05,  57.75,  63.3 ,  71.55,  69.5 ,  68.35,\n",
       "        66.05,  72.35,  74.  ,  74.01,  76.05,  73.45,  72.9 ,  81.95,\n",
       "        74.87,  82.2 ,  79.09,  88.15,  90.9 ,  92.35,  89.36,  97.61,\n",
       "       105.31,  98.92, 125.66, 123.86, 136.66, 123.71, 129.81, 125.74,\n",
       "       135.81, 130.12, 140.28, 134.49, 141.18, 136.4 , 138.92, 134.18,\n",
       "       142.32, 139.42, 133.61, 144.6 , 148.39, 143.77, 150.71, 153.55,\n",
       "       165.85, 153.9 , 147.87, 151.64, 155.6 , 167.58, 166.39, 158.31,\n",
       "       166.86, 166.7 , 166.57, 173.19, 170.76, 177.13, 173.92, 177.9 ,\n",
       "       183.02, 176.15, 187.1 , 171.77, 177.35, 184.31, 180.6 , 191.26,\n",
       "       191.21, 190.58, 189.59, 197.63, 196.06, 197.28, 189.32, 196.25,\n",
       "       193.86, 208.58, 195.48, 195.72, 202.3 , 205.65, 202.49, 222.07,\n",
       "       197.63, 204.04, 199.72, 204.55, 198.93, 211.85, 207.12, 209.73,\n",
       "       200.57, 200.38, 204.75, 218.1 , 218.66, 213.95, 211.66, 205.23,\n",
       "       217.65, 205.28, 218.77, 211.9 , 220.22, 214.12, 216.75, 208.54,\n",
       "       211.68, 225.88, 213.38, 216.43, 216.79, 222.63, 221.75, 216.83,\n",
       "       226.65, 235.01, 226.14, 235.02, 227.73, 226.43, 245.8 , 238.2 ,\n",
       "       230.54, 230.99, 234.35, 245.92, 234.24, 245.67, 244.78, 241.92,\n",
       "       235.86, 239.58, 247.28, 245.54, 242.74, 244.81, 241.05, 239.45,\n",
       "       246.72, 252.6 , 248.14, 256.15, 249.63, 246.04, 249.99, 254.01,\n",
       "       251.74, 249.86, 248.8 , 253.96, 258.75, 248.84, 254.2 , 258.04,\n",
       "       259.24, 247.99, 252.12, 252.35, 251.53, 258.3 , 252.17, 252.75,\n",
       "       253.61, 257.25, 251.47, 254.05, 253.2 , 253.64, 256.74, 251.7 ,\n",
       "       253.1 , 254.45, 254.1 , 266.8 , 257.01, 256.75, 256.95, 265.5 ,\n",
       "       255.1 , 256.05, 260.8 , 257.4 , 256.91, 262.8 , 253.93, 259.85,\n",
       "       263.8 , 258.15, 253.4 , 262.  , 263.4 , 256.35, 260.45, 259.55,\n",
       "       267.8 , 268.1 , 264.15, 261.65, 269.35, 272.3 , 269.6 , 263.6 ,\n",
       "       267.65, 264.15, 266.  , 264.15, 263.3 , 270.35, 279.5 , 269.4 ,\n",
       "       264.05, 262.6 , 261.15, 261.5 , 268.45, 266.75, 271.65, 266.75,\n",
       "       262.6 , 278.89, 265.8 , 267.5 , 260.05, 274.3 , 280.25, 275.85,\n",
       "       276.05, 275.08, 263.9 , 265.7 , 273.35, 281.  , 283.6 , 263.15,\n",
       "       278.  , 262.3 , 267.3 , 267.5 , 268.55, 270.45, 266.07, 271.75,\n",
       "       274.3 , 267.53, 268.37, 271.6 , 277.05, 272.55, 278.95, 274.28,\n",
       "       282.69, 283.46, 296.8 , 291.1 , 291.78, 285.81, 279.88, 291.63,\n",
       "       284.56, 286.  , 286.56, 288.  , 290.35, 295.48, 285.86, 279.27,\n",
       "       293.72, 280.61, 291.29, 290.6 , 287.91, 287.35, 287.16, 290.14,\n",
       "       294.99, 285.92, 302.07, 292.82, 288.28, 292.33, 288.24, 284.77,\n",
       "       292.29, 298.  , 292.74, 291.51, 292.32, 290.3 , 290.73, 296.13,\n",
       "       288.73, 291.91, 300.95, 288.06, 299.21, 298.33, 309.36, 297.55,\n",
       "       293.13, 299.66, 306.61, 302.75, 298.3 , 297.96, 302.  , 302.32,\n",
       "       299.34, 300.5 , 301.54, 313.05, 304.25, 299.05, 299.2 , 317.55,\n",
       "       307.45, 311.  , 307.98, 312.8 , 335.4 , 303.31, 310.25, 302.65,\n",
       "       303.68, 304.75, 304.5 , 306.5 , 307.42, 296.68, 315.2 , 297.97,\n",
       "       322.  , 313.  , 303.8 , 304.75, 308.15, 304.35, 305.4 , 306.3 ,\n",
       "       310.1 , 307.25, 307.6 , 317.55, 313.45, 307.39, 318.26, 303.1 ,\n",
       "       318.61, 311.55, 310.18, 317.25, 311.9 , 303.26, 306.05, 303.1 ,\n",
       "       307.55, 312.45, 307.1 , 305.48, 305.7 , 311.25, 308.7 , 306.57,\n",
       "       307.5 , 305.1 , 310.39, 309.17, 301.1 , 315.2 , 304.19, 305.3 ,\n",
       "       304.7 , 307.68, 301.08, 309.2 , 299.12, 300.6 , 296.94, 305.1 ,\n",
       "       302.69, 307.15, 308.25, 300.74, 299.46, 302.04, 301.19, 309.55,\n",
       "       306.85, 312.32, 300.32, 304.9 , 310.15, 303.45, 308.5 , 311.34,\n",
       "       311.6 , 309.51, 320.45, 305.04, 306.66, 313.58, 305.7 , 300.94,\n",
       "       304.94, 304.42, 306.76, 311.3 , 308.55, 309.28, 305.73, 309.55,\n",
       "       302.84, 305.7 , 299.65, 319.95, 321.  , 311.94, 313.2 , 306.  ,\n",
       "       311.93, 312.02, 315.13, 307.66, 319.04, 323.44, 314.89, 312.69,\n",
       "       314.17, 318.25, 314.15, 312.95, 315.89, 324.2 , 308.9 , 314.48,\n",
       "       315.31, 322.15, 319.45, 318.15, 309.2 , 319.2 , 312.98, 312.12,\n",
       "       314.82, 312.4 , 315.51, 314.61, 331.5 , 322.1 , 314.61, 330.49,\n",
       "       320.88, 329.35, 315.7 , 321.66, 327.18, 323.67, 323.01, 323.6 ,\n",
       "       322.57, 318.9 , 326.25, 325.75, 324.09, 331.35, 325.03, 322.  ,\n",
       "       335.93, 328.45, 327.52, 325.64, 328.45, 318.15, 320.19, 337.08,\n",
       "       325.95, 329.75, 330.05, 315.64, 331.67, 327.87, 324.46, 321.22,\n",
       "       320.09, 324.32, 321.46, 330.4 , 322.51, 329.21, 322.72, 323.61,\n",
       "       327.12, 330.63, 319.56, 324.78, 320.93, 318.61, 323.22, 321.99,\n",
       "       324.89, 316.37, 322.35, 323.65, 328.09, 322.64, 326.63, 329.03,\n",
       "       327.3 , 343.12, 330.7 , 321.76, 326.33, 321.49, 337.92, 326.92,\n",
       "       323.28, 327.77, 320.66, 318.16, 323.32, 327.38, 320.35, 316.9 ,\n",
       "       333.48, 334.9 , 325.3 , 327.6 , 326.3 , 327.17, 318.95, 326.61,\n",
       "       331.02, 328.3 , 322.09, 327.54, 326.7 , 321.3 , 330.15, 331.8 ,\n",
       "       322.61, 321.95, 332.32, 327.8 , 321.49, 324.22, 331.69, 324.19,\n",
       "       327.26, 325.64, 328.5 , 323.29, 324.37, 323.  , 326.94, 324.41,\n",
       "       323.55, 317.25, 331.5 , 327.55, 328.19, 323.17, 326.  , 324.65,\n",
       "       316.85, 319.41, 324.75, 334.25, 322.4 , 329.83, 324.4 , 323.8 ,\n",
       "       321.3 , 321.1 , 317.4 , 321.6 , 327.5 , 320.6 , 324.05, 322.6 ,\n",
       "       324.75, 322.8 , 323.45, 325.27, 321.8 , 324.52, 317.1 , 317.55,\n",
       "       319.45, 328.9 , 319.85, 314.1 , 318.5 , 322.55, 320.2 , 324.5 ,\n",
       "       320.28, 324.4 , 318.11, 323.85, 321.55, 321.78, 325.8 , 321.81,\n",
       "       326.55, 324.35, 329.4 , 328.5 , 324.  , 324.05, 325.55, 328.2 ,\n",
       "       321.45, 323.95, 317.84, 320.87, 325.95, 331.25, 327.9 , 337.8 ,\n",
       "       325.61, 329.97, 344.1 , 323.7 , 330.2 , 317.55, 315.5 , 323.11,\n",
       "       319.23, 321.65, 321.5 , 322.05, 322.9 , 320.25, 325.01, 322.8 ,\n",
       "       326.35, 333.  , 330.17, 327.75, 327.25, 331.41, 328.3 , 323.65,\n",
       "       324.8 , 328.05, 324.65, 327.99, 333.45, 325.95, 322.9 , 323.4 ,\n",
       "       321.25, 330.68, 316.55, 314.  , 330.29, 319.45, 322.  , 316.71,\n",
       "       320.02, 318.49, 326.5 , 325.6 , 320.1 , 320.62, 311.02, 316.  ,\n",
       "       315.91, 327.8 , 315.32, 318.89, 315.85, 320.65, 317.  , 325.55,\n",
       "       322.65, 317.6 , 318.75, 319.6 , 322.35, 313.9 , 312.37, 313.1 ,\n",
       "       310.24, 332.45, 308.52, 314.52, 313.35, 318.65, 317.25, 316.06,\n",
       "       313.25, 315.13, 313.29, 310.69, 316.95, 310.17, 311.55, 316.9 ,\n",
       "       321.5 , 309.78, 308.75, 304.7 , 309.1 , 309.7 , 316.3 , 310.11,\n",
       "       311.95, 320.1 , 313.86, 306.86, 313.39, 322.65, 309.62, 318.52,\n",
       "       319.64, 308.06, 326.37, 310.17, 309.64, 312.35, 313.19, 315.1 ,\n",
       "       313.86, 309.82, 312.06, 316.12, 317.97, 308.66, 321.83, 326.4 ,\n",
       "       319.17, 325.55, 317.8 , 307.1 , 322.23, 320.83, 313.15, 322.14,\n",
       "       317.34, 328.48, 323.43, 312.25, 323.38, 326.85, 318.92, 319.74,\n",
       "       315.45, 324.98, 325.65, 319.56, 324.82, 321.38, 331.27, 328.36,\n",
       "       329.87, 333.83, 328.75, 326.8 , 325.87, 334.72, 326.67, 329.2 ,\n",
       "       322.35, 320.18, 319.18, 322.25, 327.67, 321.54, 330.65, 326.28,\n",
       "       334.52, 328.2 , 327.78, 328.47, 318.41, 330.87, 325.97, 323.65,\n",
       "       327.45, 323.08, 328.8 , 324.5 , 321.39, 333.88, 325.6 , 327.48,\n",
       "       331.61, 325.  , 325.31, 324.72, 320.3 , 325.91, 322.36, 327.96,\n",
       "       328.45, 318.8 , 334.11, 327.82, 335.86, 331.55, 320.84, 334.96,\n",
       "       329.85, 333.91, 325.67, 331.35, 333.85, 335.1 , 332.87, 327.7 ,\n",
       "       329.3 , 327.65, 325.23, 331.49, 331.99, 327.95, 331.35, 325.59,\n",
       "       330.3 , 327.95, 328.75, 340.86, 332.18, 336.  , 339.27, 342.8 ,\n",
       "       334.97, 331.74, 342.74, 332.31, 345.41, 336.4 , 332.29, 330.82,\n",
       "       336.59, 342.92, 343.38, 332.4 , 337.2 , 339.75, 339.91, 332.59,\n",
       "       348.87, 342.95, 343.7 , 350.67, 340.21, 341.72, 349.92, 350.13,\n",
       "       350.83, 350.04, 350.25, 344.36, 347.42, 344.69, 343.69, 353.58,\n",
       "       351.78, 357.99, 350.8 , 345.55, 351.37, 352.1 , 346.37, 354.05,\n",
       "       359.89, 353.55, 362.93, 349.31, 348.11, 354.45, 348.55, 347.06,\n",
       "       359.13, 355.18, 365.59, 356.25, 356.81, 352.82, 359.05, 361.38])"
      ]
     },
     "execution_count": 556,
     "metadata": {},
     "output_type": "execute_result"
    }
   ],
   "source": [
    "best_g_fitness"
   ]
  },
  {
   "cell_type": "code",
   "execution_count": 557,
   "metadata": {},
   "outputs": [
    {
     "data": {
      "image/png": "[encoded data removed]",
      "text/plain": [
       "<Figure size 432x288 with 1 Axes>"
      ]
     },
     "metadata": {
      "needs_background": "light"
     },
     "output_type": "display_data"
    }
   ],
   "source": [
    "plt.plot(best_g_fitness)\n",
    "plt.xlabel(\"Generation\")\n",
    "plt.ylabel(\"Best fitness in population\")\n",
    "#plt.xticks([0,100,200,300,400,500,600,700,800,900,1000])\n",
    "plt.show()"
   ]
  },
  {
   "cell_type": "code",
   "execution_count": null,
   "metadata": {},
   "outputs": [],
   "source": []
  },
  {
   "cell_type": "code",
   "execution_count": null,
   "metadata": {},
   "outputs": [],
   "source": []
  },
  {
   "cell_type": "code",
   "execution_count": null,
   "metadata": {},
   "outputs": [],
   "source": []
  }
 ],
 "metadata": {
  "kernelspec": {
   "display_name": "Python 3",
   "language": "python",
   "name": "python3"
  },
  "language_info": {
   "codemirror_mode": {
    "name": "ipython",
    "version": 3
   },
   "file_extension": ".py",
   "mimetype": "text/x-python",
   "name": "python",
   "nbconvert_exporter": "python",
   "pygments_lexer": "ipython3",
   "version": "3.8.5"
  }
 },
 "nbformat": 4,
 "nbformat_minor": 4
}
